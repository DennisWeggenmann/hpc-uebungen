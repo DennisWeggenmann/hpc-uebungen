{
 "cells": [
  {
   "cell_type": "code",
   "execution_count": 31,
   "metadata": {},
   "outputs": [],
   "source": [
    "matrix = np.array([[1, 4, 0, 0, 1],\n",
    "         [0, 0, 0, 0, 0],\n",
    "         [0, 5, 6, 0, 0],\n",
    "         [0, 0, 3, 0, 0]])\n",
    "\n",
    "value = np.array([1, 4, 1, 5, 6, 3])\n",
    "col_index = np.array([0, 1, 4, 1, 2, 2])\n",
    "rowptr = np.array([0, 3, 3, 5, 6])\n",
    "vector = [3, 4, 5, 6, 7]"
   ]
  },
  {
   "cell_type": "code",
   "execution_count": 22,
   "metadata": {},
   "outputs": [],
   "source": [
    "import numpy as np\n",
    "from time import perf_counter"
   ]
  },
  {
   "cell_type": "code",
   "execution_count": 13,
   "metadata": {},
   "outputs": [],
   "source": [
    "\n",
    "def csr_matvec(value,col_index, rowptr, vector):\n",
    "    result = np.zeros(len(vector))\n",
    "    for i in range(len(rowptr)-1):\n",
    "        for j in range(rowptr[i],rowptr[i+1]):\n",
    "            result[i] += value[j] * vector[col_index[j]]\n",
    "    return result\n",
    "  "
   ]
  },
  {
   "cell_type": "code",
   "execution_count": 32,
   "metadata": {},
   "outputs": [
    {
     "name": "stdout",
     "output_type": "stream",
     "text": [
      "0.000061900 Sekunden\n",
      "normal matvec multiplication [26  0 50 15]\n",
      "0.000049500 Sekunden\n",
      "csr matvec multiplication [26.  0. 50. 15.  0.]\n"
     ]
    }
   ],
   "source": [
    "\n",
    "start = perf_counter()\n",
    "normalResult = matrix.dot(vector)\n",
    "secs = perf_counter() - start\n",
    "print(f'{secs:.9f} Sekunden')\n",
    "print('normal matvec multiplication',normalResult)\n",
    "\n",
    "\n",
    "start = perf_counter()\n",
    "csrResult =csr_matvec(value,col_index, rowptr, vector)\n",
    "secs = perf_counter() - start\n",
    "print(f'{secs:.9f} Sekunden')\n",
    "print('csr matvec multiplication',csrResult)\n"
   ]
  }
 ],
 "metadata": {
  "interpreter": {
   "hash": "065c6b83bab4ffe3d8f780d04b927b0d95b633724561594d9e77ab3c00e41a75"
  },
  "kernelspec": {
   "display_name": "Python 3.8.10 64-bit (windows store)",
   "language": "python",
   "name": "python3"
  },
  "language_info": {
   "codemirror_mode": {
    "name": "ipython",
    "version": 3
   },
   "file_extension": ".py",
   "mimetype": "text/x-python",
   "name": "python",
   "nbconvert_exporter": "python",
   "pygments_lexer": "ipython3",
   "version": "3.8.10"
  },
  "orig_nbformat": 4
 },
 "nbformat": 4,
 "nbformat_minor": 2
}
