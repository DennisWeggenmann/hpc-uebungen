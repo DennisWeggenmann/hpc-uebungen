{
 "cells": [
  {
   "cell_type": "markdown",
   "source": [
    "# Graustufenkonvertierung mit NumPy\n",
    "\n",
    "Hier geht es darum zwei unterschiedliche Herangehensweisen zur Matrix-Verarbeitung mit NumPy zu testen. Insbesondere um einen Vergleich zum naiven C-Modell zu haben. Ziel ist es nicht, die effizienteste Methode zu nehmen - dafür würden sich vorgefertige Befehle besser eignen.\n",
    "\n",
    "Im ersten Schritt importieren wir die verwendeten Bibliotheken:\n",
    "- NumPy für die effiziente Speicherung und Verarbeitung von Arrays und damit Matrizen\n",
    "- Matplotlib um Bilder einzulesen und darzustellen - sowie für Schaubilder\n",
    "- perf_counter aus der time Standardbibliothek zur Zeitmessung"
   ],
   "metadata": {}
  },
  {
   "cell_type": "code",
   "execution_count": null,
   "source": [
    "import numpy as np\n",
    "import matplotlib.pyplot as plt\n",
    "from time import perf_counter"
   ],
   "outputs": [],
   "metadata": {}
  },
  {
   "cell_type": "markdown",
   "source": [
    "Nun lesen wir das Bild ein und geben die \"Form\" (\"shape\") des Bilds aus:"
   ],
   "metadata": {}
  },
  {
   "cell_type": "code",
   "execution_count": null,
   "source": [
    "img = plt.imread(\"tamanna-rumee-vaTsR-ghLog-unsplash.jpg\")\n",
    "print(img.shape)"
   ],
   "outputs": [],
   "metadata": {}
  },
  {
   "cell_type": "markdown",
   "source": [
    "Die Form ist ein 3-Tupel aus Ganzzahlen. Das heißt wir haben hier ein 3-dimensionales Array mit den Dimensionen:\n",
    "- Höhe: 5472 entspricht den Zeilen des Bilds\n",
    "- Breite: 3648 entspricht den Spalten des Bilds\n",
    "- Kanäle: 3 entspricht den Farbkomponenten des Bidls (Rot, Grün, Blau)\n",
    "\n",
    "Wir können nun einzelne Bereiche des Bilds als Daten/Zahlen betrachten:"
   ],
   "metadata": {}
  },
  {
   "cell_type": "code",
   "execution_count": null,
   "source": [
    "# Erster Pixel als RGB-Array\n",
    "img[0,0,:]"
   ],
   "outputs": [],
   "metadata": {}
  },
  {
   "cell_type": "code",
   "execution_count": null,
   "source": [
    "# Blau Werte der 9 Pixel \"rechts-unten\"\n",
    "img[-4:-1,-4:-1,2]"
   ],
   "outputs": [],
   "metadata": {}
  },
  {
   "cell_type": "markdown",
   "source": [
    "Mit Matplotlib können wir aber auch das gesamte Bild plotten:"
   ],
   "metadata": {}
  },
  {
   "cell_type": "code",
   "execution_count": null,
   "source": [
    "plt.imshow(img)\n",
    "plt.show()"
   ],
   "outputs": [],
   "metadata": {}
  },
  {
   "cell_type": "markdown",
   "source": [
    "Wir können auch die Farbkanäle einzelnen plotten:"
   ],
   "metadata": {}
  },
  {
   "cell_type": "code",
   "execution_count": null,
   "source": [
    "colors = [\"Reds\", \"Greens\", \"Blues\"]\n",
    "\n",
    "fig, ax = plt.subplots(ncols=3, sharey=True, figsize=(15,5))\n",
    "\n",
    "for i in range(3):\n",
    "    ax[i].set_title(colors[i])\n",
    "    ax[i].imshow(img[:,:,i],cmap=colors[i])"
   ],
   "outputs": [],
   "metadata": {}
  },
  {
   "cell_type": "markdown",
   "source": [
    "## Serielle Konvertierung\n",
    "\n",
    "Wir können nun natürlich in Python genau so eine serielle Schleife programmieren wie in C. Warnung: die Ausführung wird lange dauern - das Programm verstößt gegen alle NumPy Best Practices."
   ],
   "metadata": {}
  },
  {
   "cell_type": "code",
   "execution_count": null,
   "source": [
    "height = img.shape[0]\n",
    "width = img.shape[1]\n",
    "\n",
    "# Anlegen eines leeren Bilds\n",
    "gray = np.empty(shape=(height, width), dtype=np.uint8)\n",
    "\n",
    "# Doppelter for-loop für jedes Pixel einzelne Konvertierung\n",
    "start = perf_counter()\n",
    "for x in range(width):\n",
    "    for y in range(height):\n",
    "        gray[y, x] = 0.2126 * img[y, x, 0] + 0.7152 * img[y, x, 1] + 0.0722 * img[y, x, 2]\n",
    "secs = perf_counter() - start"
   ],
   "outputs": [],
   "metadata": {}
  },
  {
   "cell_type": "code",
   "execution_count": null,
   "source": [
    "flop = width * height * (3 + 2)\n",
    "print(f'{flop/1000000.0:8.2f} MFLOP')\n",
    "mflops = flop / 1000000.0 / secs\n",
    "print(f'{mflops:8.2f} MFLOP/s');"
   ],
   "outputs": [],
   "metadata": {}
  },
  {
   "cell_type": "markdown",
   "source": [
    "Seeeeeeehr langsam gegenüber unseres C-Programms. Aber einfach darzustellen:"
   ],
   "metadata": {}
  },
  {
   "cell_type": "code",
   "execution_count": null,
   "source": [
    "plt.imshow(gray, cmap=\"gray\")\n",
    "plt.show()"
   ],
   "outputs": [],
   "metadata": {}
  },
  {
   "cell_type": "markdown",
   "source": [
    "Wir können auch die Berechnung für einen Pixel sehr leicht nachvollziehen und prüfen:"
   ],
   "metadata": {}
  },
  {
   "cell_type": "code",
   "execution_count": null,
   "source": [
    "img[0,0]"
   ],
   "outputs": [],
   "metadata": {}
  },
  {
   "cell_type": "code",
   "execution_count": null,
   "source": [
    "79*0.2126+175*0.7152+191*0.0722"
   ],
   "outputs": [],
   "metadata": {}
  },
  {
   "cell_type": "code",
   "execution_count": null,
   "source": [
    "gray[0,0]"
   ],
   "outputs": [],
   "metadata": {}
  },
  {
   "cell_type": "markdown",
   "source": [
    "# Matrix-Multiplikation\n",
    "\n",
    "Wenn wir das RGB-Bild wieder als 2D-Array abspeichern wie in C, dann können wir die Graustufenkonvertierung auch über eine [Matrix-Multiplikation](https://de.wikipedia.org/wiki/Matrizenmultiplikation) erreichen. Im Folgenden ist die Vorgehensweise skizziert:\n",
    "\n",
    "![Graustufenkonvertierung als Matrix-Multiplikation](graustufenmatrixmul.svg)"
   ],
   "metadata": {}
  },
  {
   "cell_type": "markdown",
   "source": [
    "Zunächst konvertieren wir das 3D-Array in ein 2D-Array. NumPy hat dafür die reshape-Operation: wir geben die erste Dimension mit der Höhe an und sagen dann mit -1, dass die zweite Dimension berechnet werden soll:"
   ],
   "metadata": {}
  },
  {
   "cell_type": "code",
   "execution_count": null,
   "source": [
    "img2dmatrix = img.reshape(height,-1)\n",
    "img2dmatrix"
   ],
   "outputs": [],
   "metadata": {}
  },
  {
   "cell_type": "markdown",
   "source": [
    "Die Transformationsmatrix ist etwas komplizierter zu erstellen. Zunächst erstellen wir Identitäts-Matrizen, d.h. mit 1en in der Diagonale. Diese multiplizieren wir dann mit den Farbgewichten und verweben Sie dann untereinander. Dies erfordert in NumPy ein paar Umwegen und ist daher hier vorgegeben:"
   ],
   "metadata": {}
  },
  {
   "cell_type": "code",
   "execution_count": null,
   "source": [
    "transformation = np.hstack((np.identity(width)*0.2126, np.identity(width)*0.7152,np.identity(width)*0.0722)).reshape(-1,width)\n",
    "transformation"
   ],
   "outputs": [],
   "metadata": {}
  },
  {
   "cell_type": "markdown",
   "source": [
    "Nun bleibt uns nur noch die Matrix-Multiplikation auszuführen und das Bild anzuzeigen:"
   ],
   "metadata": {}
  },
  {
   "cell_type": "code",
   "execution_count": null,
   "source": [
    "gray_matrix = np.matmul(img2dmatrix, transformation)"
   ],
   "outputs": [],
   "metadata": {}
  },
  {
   "cell_type": "code",
   "execution_count": null,
   "source": [
    "plt.imshow(gray_matrix, cmap=\"gray\")\n",
    "plt.show()"
   ],
   "outputs": [],
   "metadata": {}
  },
  {
   "cell_type": "markdown",
   "source": [
    "Das geht erheblich schneller als die geschachtelten Schleifen aber dennoch langsamer als unsere C-Lösung. Wir haben das Problem aber auch mit einer Matrix-Multiplikation.\n",
    "Ein einfacher Algorithmus für Matrix-Multiplikation (wird so von NumPy nicht verwendet) funktioniert so:\n",
    "```\n",
    "def matmul(A, B):\n",
    "    if A.shape[1] != B.shape[0]:\n",
    "        return []\n",
    "    C = np.empty(shape=(A.shape[0], B.shape[1]))\n",
    "    for i in range(A.shape[0]):\n",
    "        for j in range(B.shape[1]):\n",
    "            sum = 0\n",
    "            for k in range(A.shape[1]):\n",
    "                sum += A[i,k] * B[k,j]\n",
    "            C[i,j] = sum\n",
    "```\n",
    "\n",
    "- Wie viele FLOP hätten berechnet werden müssen, um die Matrix-Multiplikation durchzuführen?\n",
    "- Wie viele MFLOP/s wären es gewesen, wenn Sie die Zeit der NumPy-Multiplikation auf diese FLOP anwenden?\n",
    "- Wie vergleicht sich das mit der C-Variante?"
   ],
   "metadata": {}
  },
  {
   "cell_type": "code",
   "execution_count": null,
   "source": [
    "# TODO"
   ],
   "outputs": [],
   "metadata": {}
  },
  {
   "cell_type": "markdown",
   "source": [
    "## NumPy Matrix-Operationen\n",
    "\n",
    "Gehen wir zurück zu `img` indem das RGB-Bild als 3D-Array abgelegt ist. NumPy bietet Matrix-Operationen, d.h. wir können direkt Arrays miteinander addieren - NumPy sorgt dann für eine optimierte Elementweise Addition.\n",
    "Beispiel:"
   ],
   "metadata": {}
  },
  {
   "cell_type": "code",
   "execution_count": null,
   "source": [
    "a = np.array([1, 2, 3, 4, 5])\n",
    "b = np.array([6, 7, 8, 9, 10])\n",
    "a + b"
   ],
   "outputs": [],
   "metadata": {}
  },
  {
   "cell_type": "markdown",
   "source": [
    "Ebenso können z.B. Arrays mit einem Skalar-Wert addiert oder multipliziert werden:"
   ],
   "metadata": {}
  },
  {
   "cell_type": "code",
   "execution_count": null,
   "source": [
    "a * 0.4"
   ],
   "outputs": [],
   "metadata": {}
  },
  {
   "cell_type": "markdown",
   "source": [
    "Ein weiteres Feature ist der effiziente Zugriff auf Teil-Arrays. Die einfachste Methode ist dabei `:` für eine Dimension zu nutzen, wenn alle Werte aus dieser Dimension gewünscht sind.\n",
    "Z.B. liefert die folgende Zeile alle Grün-Werte der ersten Zeile des Bilds:"
   ],
   "metadata": {}
  },
  {
   "cell_type": "code",
   "execution_count": null,
   "source": [
    "img[0,:,1]"
   ],
   "outputs": [],
   "metadata": {}
  },
  {
   "cell_type": "markdown",
   "source": [
    "*Aufgabe*:\n",
    "- Erstellen Sie ein Graustufenbild als Matrix-Operation\n",
    "- Messen Sie die Zeit\n",
    "- Berechnen Sie die MFLOP/s mit der benötigten FLOP-Zahl wie bei der doppelten Schleife"
   ],
   "metadata": {}
  },
  {
   "cell_type": "code",
   "execution_count": null,
   "source": [
    "# TODO"
   ],
   "outputs": [],
   "metadata": {}
  }
 ],
 "metadata": {
  "orig_nbformat": 4,
  "language_info": {
   "name": "python",
   "version": "3.8.1",
   "mimetype": "text/x-python",
   "codemirror_mode": {
    "name": "ipython",
    "version": 3
   },
   "pygments_lexer": "ipython3",
   "nbconvert_exporter": "python",
   "file_extension": ".py"
  },
  "kernelspec": {
   "name": "python3",
   "display_name": "Python 3.8.1 64-bit ('hpc': pyenv)"
  },
  "interpreter": {
   "hash": "12e7678e250b854d5e701d0bfc459d7ea7e303bb285a680e48f0e0157efac2a3"
  }
 },
 "nbformat": 4,
 "nbformat_minor": 2
}