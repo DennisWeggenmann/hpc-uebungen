{
 "cells": [
  {
   "cell_type": "markdown",
   "source": [
    "# Amdahl's Law\n",
    "\n",
    "<div class=\"alert alert-warning\">\n",
    "<b>ÜBUNG: </b> Amdahl's Gesetz<br />\n",
    "<p>Erstellen Sie eine Tabelle/ein Chart, das den maximalen Speedup für folgende Kombinationen zeigt:\n",
    "<ul>\n",
    "<li>Prozessoren: 1, 2, 4, 8, 16, 32, 64, 128, 256, 512, 1024, 2048, 4096</li>\n",
    "<li>Paralleler Anteil: 50%, 75%, 90%, 95%</li>\n",
    "</ul>\n",
    "\n",
    "Wie viel Zeit wird eingespart bei einem Programm mit parallelem Anteil 80%, das auf 1 Prozessor 24 Stunden läuft beim Umstieg von 1 auf 16 Prozessoren? Wie viel beim Umstieg von 16 auf 64 Prozessoren?\n",
    "</div>"
   ],
   "metadata": {}
  },
  {
   "cell_type": "code",
   "execution_count": null,
   "source": [
    "import numpy as np\n",
    "import pandas as pd\n",
    "import matplotlib.pyplot as plt\n",
    "\n",
    "def speedup(parallel_share, n_processors):\n",
    "    return 1.0 / ((1-parallel_share) + parallel_share / n_processors)"
   ],
   "outputs": [],
   "metadata": {}
  },
  {
   "cell_type": "code",
   "execution_count": 7,
   "source": [
    "ns = 2**np.arange(0, 13)\n",
    "ns"
   ],
   "outputs": [
    {
     "output_type": "execute_result",
     "data": {
      "text/plain": [
       "array([   1,    2,    4,    8,   16,   32,   64,  128,  256,  512, 1024,\n",
       "       2048, 4096])"
      ]
     },
     "metadata": {},
     "execution_count": 7
    }
   ],
   "metadata": {}
  },
  {
   "cell_type": "code",
   "execution_count": 13,
   "source": [
    "df = pd.DataFrame(index=ns)\n",
    "df"
   ],
   "outputs": [
    {
     "output_type": "execute_result",
     "data": {
      "text/html": [
       "<div>\n",
       "<style scoped>\n",
       "    .dataframe tbody tr th:only-of-type {\n",
       "        vertical-align: middle;\n",
       "    }\n",
       "\n",
       "    .dataframe tbody tr th {\n",
       "        vertical-align: top;\n",
       "    }\n",
       "\n",
       "    .dataframe thead th {\n",
       "        text-align: right;\n",
       "    }\n",
       "</style>\n",
       "<table border=\"1\" class=\"dataframe\">\n",
       "  <thead>\n",
       "    <tr style=\"text-align: right;\">\n",
       "      <th></th>\n",
       "    </tr>\n",
       "  </thead>\n",
       "  <tbody>\n",
       "    <tr>\n",
       "      <th>1</th>\n",
       "    </tr>\n",
       "    <tr>\n",
       "      <th>2</th>\n",
       "    </tr>\n",
       "    <tr>\n",
       "      <th>4</th>\n",
       "    </tr>\n",
       "    <tr>\n",
       "      <th>8</th>\n",
       "    </tr>\n",
       "    <tr>\n",
       "      <th>16</th>\n",
       "    </tr>\n",
       "    <tr>\n",
       "      <th>32</th>\n",
       "    </tr>\n",
       "    <tr>\n",
       "      <th>64</th>\n",
       "    </tr>\n",
       "    <tr>\n",
       "      <th>128</th>\n",
       "    </tr>\n",
       "    <tr>\n",
       "      <th>256</th>\n",
       "    </tr>\n",
       "    <tr>\n",
       "      <th>512</th>\n",
       "    </tr>\n",
       "    <tr>\n",
       "      <th>1024</th>\n",
       "    </tr>\n",
       "    <tr>\n",
       "      <th>2048</th>\n",
       "    </tr>\n",
       "    <tr>\n",
       "      <th>4096</th>\n",
       "    </tr>\n",
       "  </tbody>\n",
       "</table>\n",
       "</div>"
      ],
      "text/plain": [
       "Empty DataFrame\n",
       "Columns: []\n",
       "Index: [1, 2, 4, 8, 16, 32, 64, 128, 256, 512, 1024, 2048, 4096]"
      ]
     },
     "metadata": {},
     "execution_count": 13
    }
   ],
   "metadata": {}
  },
  {
   "cell_type": "code",
   "execution_count": 14,
   "source": [
    "shares = [0.5, 0.75, 0.9, 0.95]\n",
    "\n",
    "for share in shares:\n",
    "    df[share] = [speedup(share, n) for n in ns]"
   ],
   "outputs": [],
   "metadata": {}
  },
  {
   "cell_type": "code",
   "execution_count": 15,
   "source": [
    "df"
   ],
   "outputs": [
    {
     "output_type": "execute_result",
     "data": {
      "text/html": [
       "<div>\n",
       "<style scoped>\n",
       "    .dataframe tbody tr th:only-of-type {\n",
       "        vertical-align: middle;\n",
       "    }\n",
       "\n",
       "    .dataframe tbody tr th {\n",
       "        vertical-align: top;\n",
       "    }\n",
       "\n",
       "    .dataframe thead th {\n",
       "        text-align: right;\n",
       "    }\n",
       "</style>\n",
       "<table border=\"1\" class=\"dataframe\">\n",
       "  <thead>\n",
       "    <tr style=\"text-align: right;\">\n",
       "      <th></th>\n",
       "      <th>0.50</th>\n",
       "      <th>0.75</th>\n",
       "      <th>0.90</th>\n",
       "      <th>0.95</th>\n",
       "    </tr>\n",
       "  </thead>\n",
       "  <tbody>\n",
       "    <tr>\n",
       "      <th>1</th>\n",
       "      <td>1.000000</td>\n",
       "      <td>1.000000</td>\n",
       "      <td>1.000000</td>\n",
       "      <td>1.000000</td>\n",
       "    </tr>\n",
       "    <tr>\n",
       "      <th>2</th>\n",
       "      <td>1.333333</td>\n",
       "      <td>1.600000</td>\n",
       "      <td>1.818182</td>\n",
       "      <td>1.904762</td>\n",
       "    </tr>\n",
       "    <tr>\n",
       "      <th>4</th>\n",
       "      <td>1.600000</td>\n",
       "      <td>2.285714</td>\n",
       "      <td>3.076923</td>\n",
       "      <td>3.478261</td>\n",
       "    </tr>\n",
       "    <tr>\n",
       "      <th>8</th>\n",
       "      <td>1.777778</td>\n",
       "      <td>2.909091</td>\n",
       "      <td>4.705882</td>\n",
       "      <td>5.925926</td>\n",
       "    </tr>\n",
       "    <tr>\n",
       "      <th>16</th>\n",
       "      <td>1.882353</td>\n",
       "      <td>3.368421</td>\n",
       "      <td>6.400000</td>\n",
       "      <td>9.142857</td>\n",
       "    </tr>\n",
       "    <tr>\n",
       "      <th>32</th>\n",
       "      <td>1.939394</td>\n",
       "      <td>3.657143</td>\n",
       "      <td>7.804878</td>\n",
       "      <td>12.549020</td>\n",
       "    </tr>\n",
       "    <tr>\n",
       "      <th>64</th>\n",
       "      <td>1.969231</td>\n",
       "      <td>3.820896</td>\n",
       "      <td>8.767123</td>\n",
       "      <td>15.421687</td>\n",
       "    </tr>\n",
       "    <tr>\n",
       "      <th>128</th>\n",
       "      <td>1.984496</td>\n",
       "      <td>3.908397</td>\n",
       "      <td>9.343066</td>\n",
       "      <td>17.414966</td>\n",
       "    </tr>\n",
       "    <tr>\n",
       "      <th>256</th>\n",
       "      <td>1.992218</td>\n",
       "      <td>3.953668</td>\n",
       "      <td>9.660377</td>\n",
       "      <td>18.618182</td>\n",
       "    </tr>\n",
       "    <tr>\n",
       "      <th>512</th>\n",
       "      <td>1.996101</td>\n",
       "      <td>3.976699</td>\n",
       "      <td>9.827255</td>\n",
       "      <td>19.284369</td>\n",
       "    </tr>\n",
       "    <tr>\n",
       "      <th>1024</th>\n",
       "      <td>1.998049</td>\n",
       "      <td>3.988315</td>\n",
       "      <td>9.912875</td>\n",
       "      <td>19.635666</td>\n",
       "    </tr>\n",
       "    <tr>\n",
       "      <th>2048</th>\n",
       "      <td>1.999024</td>\n",
       "      <td>3.994149</td>\n",
       "      <td>9.956247</td>\n",
       "      <td>19.816159</td>\n",
       "    </tr>\n",
       "    <tr>\n",
       "      <th>4096</th>\n",
       "      <td>1.999512</td>\n",
       "      <td>3.997072</td>\n",
       "      <td>9.978076</td>\n",
       "      <td>19.907655</td>\n",
       "    </tr>\n",
       "  </tbody>\n",
       "</table>\n",
       "</div>"
      ],
      "text/plain": [
       "          0.50      0.75      0.90       0.95\n",
       "1     1.000000  1.000000  1.000000   1.000000\n",
       "2     1.333333  1.600000  1.818182   1.904762\n",
       "4     1.600000  2.285714  3.076923   3.478261\n",
       "8     1.777778  2.909091  4.705882   5.925926\n",
       "16    1.882353  3.368421  6.400000   9.142857\n",
       "32    1.939394  3.657143  7.804878  12.549020\n",
       "64    1.969231  3.820896  8.767123  15.421687\n",
       "128   1.984496  3.908397  9.343066  17.414966\n",
       "256   1.992218  3.953668  9.660377  18.618182\n",
       "512   1.996101  3.976699  9.827255  19.284369\n",
       "1024  1.998049  3.988315  9.912875  19.635666\n",
       "2048  1.999024  3.994149  9.956247  19.816159\n",
       "4096  1.999512  3.997072  9.978076  19.907655"
      ]
     },
     "metadata": {},
     "execution_count": 15
    }
   ],
   "metadata": {}
  },
  {
   "cell_type": "code",
   "execution_count": 26,
   "source": [
    "df.plot()\n",
    "plt.semilogx()\n",
    "plt.grid()\n",
    "plt.xticks(ns,ns)\n",
    "plt.show()"
   ],
   "outputs": [
    {
     "output_type": "display_data",
     "data": {
      "image/png": "[encoded data removed]",
      "text/plain": [
       "<Figure size 432x288 with 1 Axes>"
      ]
     },
     "metadata": {
      "needs_background": "light"
     }
    }
   ],
   "metadata": {}
  },
  {
   "cell_type": "code",
   "execution_count": 31,
   "source": [
    "# Wie viel Zeit wird eingespart bei einem Programm mit parallelem Anteil 80%, \n",
    "# das auf 1 Prozessor 24 Stunden läuft beim Umstieg von 1 auf 16 Prozessoren? \n",
    "# Wie viel beim Umstieg von 16 auf 64 Prozessoren?\n",
    "\n",
    "laufzeit_orig = 24\n",
    "laufzeit_neu = 24/speedup(0.8, 16)\n",
    "einsparung = laufzeit_orig - laufzeit_neu\n",
    "print(f'Einsparung von 1 auf 16 Prozesoren: {einsparung:.1f} Stunden (von {laufzeit_orig:.1f} auf {laufzeit_neu:.1f} Stunden)')\n",
    "\n",
    "laufzeit_orig = laufzeit_neu\n",
    "laufzeit_neu = 24/speedup(0.8, 64)\n",
    "einsparung = laufzeit_orig - laufzeit_neu\n",
    "print(f'Einsparung von 16 auf 64 Prozesoren: {einsparung:.1f} Stunden (von {laufzeit_orig:.1f} auf {laufzeit_neu:.1f} Stunden)')\n"
   ],
   "outputs": [
    {
     "output_type": "stream",
     "name": "stdout",
     "text": [
      "Einsparung von 1 auf 16 Prozesoren: 18.0 Stunden (von 24.0 auf 6.0 Stunden)\n",
      "Einsparung von 16 auf 64 Prozesoren: 0.9 Stunden (von 6.0 auf 5.1 Stunden)\n"
     ]
    }
   ],
   "metadata": {}
  },
  {
   "cell_type": "markdown",
   "source": [
    "## Heterogenes Computing\n",
    "\n",
    "<div class=\"alert alert-warning\">\n",
    "<b>ÜBUNG: </b> Amdahl's Gesetz mit heterogenen Prozessoren<br />\n",
    "<p>Betrachten wir einen Prozessor mit einem Kern für sequenzielle Aufgaben und 4 Kernen für parallele Aufgaben. Aufgrund von technologischen Entwicklungen können Sie bei der nächsten Prozessorgeneration entweder den Kern für sequenzielle Aufgaben doppelt so schnell machen (A) oder die Anzahl der Kerne für parallele Aufgaben verdopplen (B). Wofür entscheiden Sie sich (d.h. wie hoch ist der jeweilige Speedup), wenn der typische Workload einen parallelen Anteil von 25%, 50%, 75%, 90% oder 95% hat?\n",
    "</div>"
   ],
   "metadata": {}
  },
  {
   "cell_type": "code",
   "execution_count": 41,
   "source": [
    "parallel = [0.25, 0.5, 0.75, 0.9, 0.95]\n",
    "\n",
    "def speedup4to8(p):\n",
    "    return ((1-p) + p / 4) / ((1-p) + p / 8)\n",
    "\n",
    "def speedup2xSeq(p):\n",
    "    return ((1-p) + p / 4) / ((1-p)/2 + p / 4)\n",
    "\n",
    "print('Parallel | Speedup A | Speedup B')\n",
    "for p in parallel:\n",
    "    print(f'    {p:4.2f} |      {speedup2xSeq(p):4.1f} |      {speedup4to8(p):4.1f}')"
   ],
   "outputs": [
    {
     "output_type": "stream",
     "name": "stdout",
     "text": [
      "Parallel | Speedup A | Speedup B\n",
      "    0.25 |       1.9 |       1.0\n",
      "    0.50 |       1.7 |       1.1\n",
      "    0.75 |       1.4 |       1.3\n",
      "    0.90 |       1.2 |       1.5\n",
      "    0.95 |       1.1 |       1.7\n"
     ]
    }
   ],
   "metadata": {}
  },
  {
   "cell_type": "markdown",
   "source": [],
   "metadata": {}
  }
 ],
 "metadata": {
  "orig_nbformat": 4,
  "language_info": {
   "name": "python",
   "version": "3.8.1",
   "mimetype": "text/x-python",
   "codemirror_mode": {
    "name": "ipython",
    "version": 3
   },
   "pygments_lexer": "ipython3",
   "nbconvert_exporter": "python",
   "file_extension": ".py"
  },
  "kernelspec": {
   "name": "python3",
   "display_name": "Python 3.8.1 64-bit ('hpc': pyenv)"
  },
  "interpreter": {
   "hash": "12e7678e250b854d5e701d0bfc459d7ea7e303bb285a680e48f0e0157efac2a3"
  }
 },
 "nbformat": 4,
 "nbformat_minor": 2
}